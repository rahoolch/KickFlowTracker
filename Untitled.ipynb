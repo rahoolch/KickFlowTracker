{
 "cells": [
  {
   "cell_type": "code",
   "execution_count": 2,
   "id": "797bf8e2",
   "metadata": {},
   "outputs": [],
   "source": [
    "import cv2\n",
    "import matplotlib.pyplot as plt"
   ]
  },
  {
   "cell_type": "code",
   "execution_count": null,
   "id": "3353212b",
   "metadata": {},
   "outputs": [],
   "source": []
  },
  {
   "cell_type": "code",
   "execution_count": 3,
   "id": "b73b6134",
   "metadata": {},
   "outputs": [],
   "source": [
    "frame = cv2.imread('tracking_frame.png')"
   ]
  },
  {
   "cell_type": "code",
   "execution_count": 5,
   "id": "b7639bfa",
   "metadata": {},
   "outputs": [],
   "source": [
    "cv2.imshow(\"frame\",frame)"
   ]
  },
  {
   "cell_type": "code",
   "execution_count": null,
   "id": "79909ba3",
   "metadata": {},
   "outputs": [],
   "source": []
  },
  {
   "cell_type": "code",
   "execution_count": null,
   "id": "fe9cb150",
   "metadata": {},
   "outputs": [],
   "source": []
  }
 ],
 "metadata": {
  "kernelspec": {
   "display_name": "Python 3 (ipykernel)",
   "language": "python",
   "name": "python3"
  },
  "language_info": {
   "codemirror_mode": {
    "name": "ipython",
    "version": 3
   },
   "file_extension": ".py",
   "mimetype": "text/x-python",
   "name": "python",
   "nbconvert_exporter": "python",
   "pygments_lexer": "ipython3",
   "version": "3.10.9"
  }
 },
 "nbformat": 4,
 "nbformat_minor": 5
}
